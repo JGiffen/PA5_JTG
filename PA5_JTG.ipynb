{
 "cells": [
  {
   "cell_type": "markdown",
   "id": "c432021c",
   "metadata": {},
   "source": [
    "# Programming Assignment 5, Working with Dictionaries\n",
    "## Jeremy Giffen\n",
    "## CS-150"
   ]
  },
  {
   "cell_type": "markdown",
   "id": "279e9831",
   "metadata": {},
   "source": [
    "### Task 1: Language Translator"
   ]
  },
  {
   "cell_type": "code",
   "execution_count": 17,
   "id": "fce97b18",
   "metadata": {},
   "outputs": [
    {
     "name": "stdout",
     "output_type": "stream",
     "text": [
      "Enter a word to translate from English to Irish (enter stop to stop):\n",
      ": stop\n"
     ]
    }
   ],
   "source": [
    "translation_dict={\n",
    "    \"couch\": \"tolg\",\n",
    "    \"chair\": \"cathaoir\",\n",
    "    \"cat\": \"cat\",\n",
    "    \"dog\": \"madra\",\n",
    "    \"table\": \"tábla\",\n",
    "    \"lizard\": \"laghairt\",\n",
    "    \"lamp\": \"lampa\",\n",
    "    \"dictionary\": \"Foclóir\",\n",
    "    \"snake\": \"nathair\",\n",
    "    \"fruit\": \"torthaí\"\n",
    "}\n",
    "def translate_to_irish(word):\n",
    "    if word in translation_dict:\n",
    "        return translation_dict[word]\n",
    "    else:\n",
    "        return \"The Irish word for {} is not in this dictionary.\"\n",
    "while True:\n",
    "    word=input(\"Enter a word to translate from English to Irish (enter stop to stop):\\n: \")\n",
    "    if word=='stop':\n",
    "        break\n",
    "    translation=translate_to_irish(word.lower())\n",
    "    print(translation)"
   ]
  },
  {
   "cell_type": "markdown",
   "id": "9a4cc755",
   "metadata": {},
   "source": [
    "### Task 2: Temperature converter"
   ]
  },
  {
   "cell_type": "code",
   "execution_count": 18,
   "id": "3ce91409",
   "metadata": {},
   "outputs": [
    {
     "name": "stdout",
     "output_type": "stream",
     "text": [
      "September 1, 2023: 31.11°C\n",
      "September 2, 2023: 32.78°C\n",
      "September 3, 2023: 33.33°C\n",
      "September 4, 2023: 33.89°C\n",
      "September 5, 2023: 32.22°C\n",
      "September 6, 2023: 28.89°C\n",
      "September 7, 2023: 25.00°C\n",
      "September 8, 2023: 28.89°C\n",
      "September 9, 2023: 27.22°C\n",
      "September 10, 2023: 28.89°C\n",
      "September 11, 2023: 30.56°C\n",
      "September 12, 2023: 26.67°C\n",
      "September 13, 2023: 27.22°C\n",
      "September 14, 2023: 27.78°C\n",
      "September 15, 2023: 27.22°C\n",
      "September 16, 2023: 28.33°C\n",
      "September 17, 2023: 26.11°C\n",
      "September 18, 2023: 26.67°C\n",
      "September 19, 2023: 27.22°C\n",
      "September 20, 2023: 29.44°C\n",
      "September 21, 2023: 30.00°C\n",
      "September 22, 2023: 31.67°C\n",
      "September 23, 2023: 28.33°C\n",
      "September 24, 2023: 28.89°C\n",
      "September 25, 2023: 30.56°C\n",
      "September 26, 2023: 31.67°C\n",
      "September 27, 2023: 28.33°C\n",
      "September 28, 2023: 27.78°C\n",
      "September 29, 2023: 29.44°C\n",
      "September 30, 2023: 30.00°C\n"
     ]
    }
   ],
   "source": [
    "temp_dict={\n",
    "    1:88,2:91,3:92,4:93,5:90,6:84,7:77,8:84,9:81,10:84,11:87,12:80,13:81,14:82,15:81,16:83,17:79,18:80,19:81,20:85,21:86,22:89,23:83,24:84,25:87,26:89,27:83,28:82,29:85,30:86\n",
    "}\n",
    "for day, fahrenheit in temp_dict.items():\n",
    "    celsius=(fahrenheit - 32)*5/9\n",
    "    temp_dict[day]=celsius\n",
    "for day, celsius in temp_dict.items():\n",
    "    print(f\"September {day}, 2023: {celsius:.2f}°C\")"
   ]
  },
  {
   "cell_type": "markdown",
   "id": "add82cb7",
   "metadata": {},
   "source": [
    "### Task 3: Write a Python script to create a dictionary where the keys are numbers between 1 and 15 (both included) and the values are the squares of the keys."
   ]
  },
  {
   "cell_type": "code",
   "execution_count": 16,
   "id": "3411fa82",
   "metadata": {},
   "outputs": [
    {
     "name": "stdout",
     "output_type": "stream",
     "text": [
      "{1: 1, 2: 4, 3: 9, 4: 16, 5: 25, 6: 36, 7: 49, 8: 64, 9: 81, 10: 100, 11: 121, 12: 144, 13: 169, 14: 196, 15: 225}\n"
     ]
    }
   ],
   "source": [
    "squares={x: x**2 \n",
    "for x in range(1, 16)}\n",
    "print(squares)"
   ]
  },
  {
   "cell_type": "markdown",
   "id": "524ee160",
   "metadata": {},
   "source": [
    "### Task4: User Profile Dictionary"
   ]
  },
  {
   "cell_type": "code",
   "execution_count": 27,
   "id": "ee82228b",
   "metadata": {},
   "outputs": [
    {
     "name": "stdout",
     "output_type": "stream",
     "text": [
      "Enter your name (or 'stop' to stop): j\n",
      "Enter your age: j\n",
      "Enter your email: j\n",
      "Enter your city: j\n",
      "Enter your name (or 'stop' to stop): stop\n",
      "Enter a name to search for a user's profile: j\n",
      "User not found\n"
     ]
    }
   ],
   "source": [
    "user_profiles={}\n",
    "while True:\n",
    "    name=input(\"Enter your name (or 'stop' to stop): \")\n",
    "    if name=='stop':\n",
    "        break\n",
    "    age=input(\"Enter your age: \")\n",
    "    email=input(\"Enter your email: \")\n",
    "    city=input(\"Enter your city: \")\n",
    "\n",
    "user_profiles[name]={\n",
    "    'Age': age,\n",
    "    'Email': email,\n",
    "    'City': city\n",
    "}\n",
    "\n",
    "search_name=input(\"Enter a name to search for a user's profile: \")\n",
    "if search_name == user_profiles:\n",
    "    print(\"User Profile for\", search_name)\n",
    "    print(\"Name:\", search_name)\n",
    "    print(\"Age:\", user_profiles[search_name]['Age'])\n",
    "    print(\"Email:\", user_profiles[search_name]['Email'])\n",
    "    print(\"City:\", user_profiles[search_name]['City'])\n",
    "else:\n",
    "    print(\"User not found\")"
   ]
  },
  {
   "cell_type": "code",
   "execution_count": null,
   "id": "9cd45f3a",
   "metadata": {},
   "outputs": [],
   "source": []
  }
 ],
 "metadata": {
  "kernelspec": {
   "display_name": "Python 3 (ipykernel)",
   "language": "python",
   "name": "python3"
  },
  "language_info": {
   "codemirror_mode": {
    "name": "ipython",
    "version": 3
   },
   "file_extension": ".py",
   "mimetype": "text/x-python",
   "name": "python",
   "nbconvert_exporter": "python",
   "pygments_lexer": "ipython3",
   "version": "3.11.4"
  }
 },
 "nbformat": 4,
 "nbformat_minor": 5
}
